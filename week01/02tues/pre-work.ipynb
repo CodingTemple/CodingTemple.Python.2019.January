{
 "cells": [
  {
   "cell_type": "code",
   "execution_count": 16,
   "metadata": {},
   "outputs": [
    {
     "name": "stdout",
     "output_type": "stream",
     "text": [
      "hello_DEREK\n"
     ]
    }
   ],
   "source": [
    "# Write a function to print \"hello_USERNAME\"\n",
    "def showName(input_):\n",
    "    print(f\"hello_{input_.upper()}\")\n",
    "    \n",
    "showName(\"Derek\")"
   ]
  },
  {
   "cell_type": "code",
   "execution_count": 17,
   "metadata": {},
   "outputs": [],
   "source": [
    "string = \"Derek\""
   ]
  },
  {
   "cell_type": "code",
   "execution_count": 19,
   "metadata": {},
   "outputs": [
    {
     "name": "stdout",
     "output_type": "stream",
     "text": [
      "Help on built-in function upper:\n",
      "\n",
      "upper(...) method of builtins.str instance\n",
      "    S.upper() -> str\n",
      "    \n",
      "    Return a copy of S converted to uppercase.\n",
      "\n"
     ]
    }
   ],
   "source": [
    "help(string.upper)"
   ]
  },
  {
   "cell_type": "code",
   "execution_count": 28,
   "metadata": {},
   "outputs": [
    {
     "name": "stdout",
     "output_type": "stream",
     "text": [
      "1\n",
      "3\n",
      "5\n",
      "7\n",
      "9\n",
      "11\n",
      "13\n",
      "15\n",
      "17\n",
      "19\n",
      "21\n",
      "23\n",
      "25\n",
      "27\n",
      "29\n",
      "31\n",
      "33\n",
      "35\n",
      "37\n",
      "39\n",
      "41\n",
      "43\n",
      "45\n",
      "47\n",
      "49\n",
      "51\n",
      "53\n",
      "55\n",
      "57\n",
      "59\n",
      "61\n",
      "63\n",
      "65\n",
      "67\n",
      "69\n",
      "71\n",
      "73\n",
      "75\n",
      "77\n",
      "79\n",
      "81\n",
      "83\n",
      "85\n",
      "87\n",
      "89\n",
      "91\n",
      "93\n",
      "95\n",
      "97\n",
      "99\n",
      "101\n",
      "103\n",
      "105\n",
      "107\n",
      "109\n",
      "111\n",
      "113\n",
      "115\n",
      "117\n",
      "119\n",
      "121\n",
      "123\n",
      "125\n",
      "127\n",
      "129\n",
      "131\n",
      "133\n",
      "135\n",
      "137\n",
      "139\n",
      "141\n",
      "143\n",
      "145\n",
      "147\n",
      "149\n",
      "151\n",
      "153\n",
      "155\n",
      "157\n",
      "159\n",
      "161\n",
      "163\n",
      "165\n",
      "167\n",
      "169\n",
      "171\n",
      "173\n",
      "175\n",
      "177\n",
      "179\n",
      "181\n",
      "183\n",
      "185\n",
      "187\n",
      "189\n",
      "191\n",
      "193\n",
      "195\n",
      "197\n",
      "199\n"
     ]
    }
   ],
   "source": [
    "def getOdds(num_of_numbers):\n",
    "    i=1\n",
    "    true_numbers = num_of_numbers * 2\n",
    "    while(i <= true_numbers):\n",
    "        if(i%2 != 0):\n",
    "            print(i)\n",
    "        i+=1\n",
    "\n",
    "getOdds(100)"
   ]
  },
  {
   "cell_type": "code",
   "execution_count": 39,
   "metadata": {},
   "outputs": [
    {
     "data": {
      "text/plain": [
       "56"
      ]
     },
     "execution_count": 39,
     "metadata": {},
     "output_type": "execute_result"
    }
   ],
   "source": [
    "# Write a function that returns the maximum number from a list\n",
    "myList = [43, 56, 2, 6, 34, 1]\n",
    "\n",
    "def max_num_in_list(nums_list):\n",
    "    return max(nums_list)\n",
    "\n",
    "max_num_in_list(myList)"
   ]
  },
  {
   "cell_type": "code",
   "execution_count": 41,
   "metadata": {},
   "outputs": [],
   "source": [
    "def get_max_from_sort(a_list):\n",
    "    for i in range(len(a_list)-1):\n",
    "        for j in range(len(a_list) - 1 - i):\n",
    "            if(a_list[j] > a_list[j+1]):\n",
    "                a_list[j], a_list[j+1] = a_list[j+1], a_list[j]\n",
    "    return a_list[-1]"
   ]
  },
  {
   "cell_type": "code",
   "execution_count": 43,
   "metadata": {},
   "outputs": [
    {
     "data": {
      "text/plain": [
       "56"
      ]
     },
     "execution_count": 43,
     "metadata": {},
     "output_type": "execute_result"
    }
   ],
   "source": [
    "get_max_from_sort(myList)"
   ]
  },
  {
   "cell_type": "code",
   "execution_count": 46,
   "metadata": {},
   "outputs": [
    {
     "data": {
      "text/plain": [
       "243"
      ]
     },
     "execution_count": 46,
     "metadata": {},
     "output_type": "execute_result"
    }
   ],
   "source": [
    "# Write a function that returns the number of leap years between 2000 and 3000\n",
    "def leapYear():\n",
    "    i = 2000\n",
    "    leapYearList = []\n",
    "    while(i <= 3000):\n",
    "        if(i%4==0 and not i%100==0) or i%400==0:\n",
    "            leapYearList.append(i)\n",
    "        i+=1\n",
    "    return len(leapYearList)\n",
    "\n",
    "leapYear()"
   ]
  },
  {
   "cell_type": "code",
   "execution_count": 58,
   "metadata": {},
   "outputs": [
    {
     "data": {
      "text/plain": [
       "False"
      ]
     },
     "execution_count": 58,
     "metadata": {},
     "output_type": "execute_result"
    }
   ],
   "source": [
    "# Write a function to check to see if all numbers in list are consecutive numbers.\n",
    "def isConsecutive(a_list):\n",
    "    output = True\n",
    "    for i, v in enumerate(a_list):\n",
    "        if i != 0:\n",
    "            if (v)-(a_list[i-1]) != 1:\n",
    "                output = False\n",
    "    return output\n",
    "\n",
    "isConsecutive([1, 2, 3, 4, 9])"
   ]
  },
  {
   "cell_type": "code",
   "execution_count": 47,
   "metadata": {},
   "outputs": [],
   "source": [
    "namesList = [\"Ripal\", \"Connor\", \"Joe\", \"Ryan\"]"
   ]
  },
  {
   "cell_type": "code",
   "execution_count": 50,
   "metadata": {},
   "outputs": [
    {
     "name": "stdout",
     "output_type": "stream",
     "text": [
      "1: Ripal\n",
      "2: Connor\n",
      "3: Joe\n",
      "4: Ryan\n"
     ]
    }
   ],
   "source": [
    "for i, v in enumerate(namesList):\n",
    "    print(f\"{i+1}: {v}\")"
   ]
  }
 ],
 "metadata": {
  "kernelspec": {
   "display_name": "Python 3",
   "language": "python",
   "name": "python3"
  },
  "language_info": {
   "codemirror_mode": {
    "name": "ipython",
    "version": 3
   },
   "file_extension": ".py",
   "mimetype": "text/x-python",
   "name": "python",
   "nbconvert_exporter": "python",
   "pygments_lexer": "ipython3",
   "version": "3.6.4"
  }
 },
 "nbformat": 4,
 "nbformat_minor": 2
}
